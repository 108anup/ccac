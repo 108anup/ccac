{
 "cells": [
  {
   "cell_type": "code",
   "execution_count": 1,
   "metadata": {},
   "outputs": [],
   "source": [
    "from z3 import *"
   ]
  },
  {
   "cell_type": "markdown",
   "metadata": {},
   "source": [
    "# SMT Representation\n",
    "\n",
    "## The Buffer\n",
    "### Variables\n",
    "* $v_{t,i}$ denotes whether the $i^\\mathrm{th}$ position in the buffer has a packet at time $t$. It has a maximum length of $buf$\n",
    "* $s_{t,i}$ denotes the sequence number of that packet (0 means nil)\n",
    "\n",
    "### Properties\n",
    "* The buffer is filled from front (i = 0) to back. Hence, $\\forall j < i, v_{t, i} = 1 \\Rightarrow v_{t, j} = 1$ and $\\forall j > i, v_{t, i} = 0 \\Rightarrow v_{t, j} = 0$\n",
    "\n",
    "## The non-deterministic server\n",
    "* $serve_t = 1$ if the server sends a packet at time t (not modelling losses yet)\n",
    "* Constraint: $\\sum_{t = n T}^{(n + 1)T - 1} serve_t = k$\n",
    "\n",
    "## The sender\n",
    "* It sends $send_t = 1$ if it needs to send a packet at time $t$. \n",
    "* $seq_i$ denotes the sequence number of the packet to send if $send_t = 1$ else it is the sequence number of the last sent packet\n",
    "* $lastAck_{t-1}$ is the sequence number of last acked packet (note: there is no reodering)\n",
    "* $inFlight_t$ is the number of inflight packets. $inFlight_t = seq_{t-1} - lastack_{t}$ since there is no reordering (we use $t-1$ for $seq$, since $inFlight_t$ will determine $seq_t$ and we don't want a circular dependency)"
   ]
  },
  {
   "cell_type": "code",
   "execution_count": 206,
   "metadata": {},
   "outputs": [],
   "source": [
    "# Parameters\n",
    "\n",
    "# Time interval (in ticks)\n",
    "T = 40\n",
    "# Packets per T\n",
    "k = 10\n",
    "# Size of the buffer (in packets)\n",
    "bufsize = 10\n",
    "# Propagation delay (in ticks)\n",
    "rtt_prop = T\n",
    "# Number of time intervals (T s) we'll simulate\n",
    "num_T = 1\n",
    "# Let's start with a constant cwnd for now\n",
    "cwnd = 10"
   ]
  },
  {
   "cell_type": "code",
   "execution_count": 207,
   "metadata": {},
   "outputs": [],
   "source": [
    "# Declare all our variables\n",
    "\n",
    "# Buffer variables\n",
    "v, s = [], []\n",
    "for t in range(num_T * T):\n",
    "    v += [[Bool('v_{%d,%d}' % (t, i)) for i in range(bufsize)]]\n",
    "    s += [[Int('v_{%d,%d}' % (t, i)) for i in range(bufsize)]]\n",
    "\n",
    "# Sender variables\n",
    "send = [Bool('send_%d' % t) for t in range(num_T * T)]\n",
    "seq = [Int('seq_%d' % t) for t in range(num_T * T)]\n",
    "\n",
    "# Server variables\n",
    "serve = [Bool('serve_%d' % t) for t in range(num_T * T)]\n",
    "lastAck = [Int('lastAck_%d' % t) for t in range(num_T * T)]\n",
    "inFlight = [Int('inFlight_%d' % t) for t in range(num_T * T)]"
   ]
  },
  {
   "cell_type": "code",
   "execution_count": 216,
   "metadata": {},
   "outputs": [],
   "source": [
    "solver = Solver()\n",
    "\n",
    "# The server constraints\n",
    "for n in range(num_T):\n",
    "    solver.add(Sum([If(x, 1, 0) for x in serve[n * T:(n + 1) * T]]) == k)\n",
    "\n",
    "# Buffer constraints to set v and s\n",
    "for i in range(0, bufsize):\n",
    "    # Initial conditions\n",
    "    solver.add(v[0][i] == False)\n",
    "    solver.add(s[0][i] == 0)\n",
    "for t in range(1, num_T * T):\n",
    "    for i in range(0, bufsize):\n",
    "        if i > 0:\n",
    "            # Add packet at the i^th position at time t if v_{t-1,i} = 0 and v_{t-1,i-1} = 1\n",
    "            add_pkt = And(send[t], v[t - 1][i] == False,\n",
    "                          v[t - 1][i - 1] == True)\n",
    "        else:\n",
    "            add_pkt = And(send[t], v[t - 1][0] == False)\n",
    "\n",
    "        # Add packet\n",
    "        solver.add(Implies(add_pkt, And(v[t][i] == True, s[t][i] == seq[t])))\n",
    "        # Note: If buffer were full, packet will be dropped automatically\n",
    "\n",
    "        # Boundary condition: when moving packets, the last slot is unfilled unless a packet was just added\n",
    "        solver.add(\n",
    "            Implies(And(serve[t], Not(add_pkt)),\n",
    "                    And(v[t][bufsize - 1] == False)))\n",
    "\n",
    "        if i < bufsize - 1:\n",
    "            # If we aren't adding here, move packets if server transmitted\n",
    "            solver.add(\n",
    "                Implies(\n",
    "                    And(serve[t], Not(add_pkt)),\n",
    "                    And(v[t][i] == v[t - 1][i + 1],\n",
    "                        s[t][i] == s[t - 1][i + 1])))\n",
    "        # If we aren't serving, keep packets where they are\n",
    "        solver.add(\n",
    "            Implies(And(Not(serve[t]), Not(add_pkt)),\n",
    "                    And(v[t][i] == v[t - 1][i], s[t][i] == s[t - 1][i])))\n",
    "\n",
    "        # If a packet isn't there (i.e. v_{t, i} = 0), set the s_{t, i} = 0. This isn't necessary,\n",
    "        # but may make the search space simpler (who knows?)\n",
    "        solver.add(Implies(Not(v[t][i]), s[t][i] == 0))\n",
    "\n",
    "# Calculate the lastAck, seq and inFlight\n",
    "solver.add(lastAck[0] == 0)\n",
    "solver.add(inFlight[0] == 0)\n",
    "for t in range(1, num_T * T):\n",
    "    if t >= rtt_prop:\n",
    "        # Did we just receive an ack?\n",
    "        acked = And(serve[t - rtt_prop], v[t - rtt_prop][0])\n",
    "\n",
    "        # Update lastAck accordingly\n",
    "        solver.add(Implies(acked, lastAck[t] == s[t - rtt_prop][0]))\n",
    "        solver.add(Implies(Not(acked), lastAck[t] == lastAck[t - 1]))\n",
    "    else:\n",
    "        solver.add(lastAck[t] == lastAck[t - 1])\n",
    "\n",
    "    # Set inFlight\n",
    "    solver.add(inFlight[t] == seq[t - 1] - lastAck[t])\n",
    "\n",
    "# Implement the sender according to a cwnd condition\n",
    "solver.add(send[0] == False)\n",
    "solver.add(seq[0] == 0)\n",
    "for t in range(1, num_T * T):\n",
    "    # Should we transmit?\n",
    "    transmit = cwnd > inFlight[t]\n",
    "\n",
    "    # Set send and seq\n",
    "    solver.add(\n",
    "        Implies(transmit, And(send[t] == True, seq[t] == seq[t - 1] + 1)))\n",
    "    solver.add(\n",
    "        Implies(Not(transmit), And(send[t] == False, seq[t] == seq[t - 1])))\n",
    "\n",
    "# Performance constraint\n",
    "#solver.add(seq[-1] == k * num_T)"
   ]
  },
  {
   "cell_type": "code",
   "execution_count": 217,
   "metadata": {},
   "outputs": [
    {
     "data": {
      "text/html": [
       "<b>sat</b>"
      ],
      "text/plain": [
       "sat"
      ]
     },
     "execution_count": 217,
     "metadata": {},
     "output_type": "execute_result"
    }
   ],
   "source": [
    "solver.check()"
   ]
  },
  {
   "cell_type": "code",
   "execution_count": 218,
   "metadata": {},
   "outputs": [
    {
     "name": "stdout",
     "output_type": "stream",
     "text": [
      "             0    0    0    0    0    0    0    0    0    0  :          inFlight=0 lastAck=0\n",
      "Send         0    0    0    0    0    0    0    0    0    1  :          inFlight=0 lastAck=0\n",
      "Send         0    0    0    0    0    0    0    0    2    0  :  Served  inFlight=1 lastAck=0\n",
      "Send         0    0    0    0    0    0    0    3    2    3  :          inFlight=2 lastAck=0\n",
      "Send         0    0    0    0    0    0    4    3    2    3  :          inFlight=3 lastAck=0\n",
      "Send         0    0    0    0    0    5    0    4    3    2  :  Served  inFlight=4 lastAck=0\n",
      "Send         0    0    0    0    6    5    6    4    3    2  :          inFlight=5 lastAck=0\n",
      "Send         0    0    0    7    6    5    6    4    3    2  :          inFlight=6 lastAck=0\n",
      "Send         0    0    8    7    6    5    6    4    3    2  :          inFlight=7 lastAck=0\n",
      "Send         0    9    0    8    7    6    5    6    4    3  :  Served  inFlight=8 lastAck=0\n",
      "Send        10    9   10    8    7    6    5    6    4    3  :          inFlight=9 lastAck=0\n",
      "             0   10    9   10    8    7    6    5    6    4  :  Served  inFlight=10 lastAck=0\n",
      "             0   10    9   10    8    7    6    5    6    4  :          inFlight=10 lastAck=0\n",
      "             0   10    9   10    8    7    6    5    6    4  :          inFlight=10 lastAck=0\n",
      "             0   10    9   10    8    7    6    5    6    4  :          inFlight=10 lastAck=0\n",
      "             0   10    9   10    8    7    6    5    6    4  :          inFlight=10 lastAck=0\n",
      "             0    0   10    9   10    8    7    6    5    6  :  Served  inFlight=10 lastAck=0\n",
      "             0    0   10    9   10    8    7    6    5    6  :          inFlight=10 lastAck=0\n",
      "             0    0   10    9   10    8    7    6    5    6  :          inFlight=10 lastAck=0\n",
      "             0    0    0   10    9   10    8    7    6    5  :  Served  inFlight=10 lastAck=0\n",
      "             0    0    0   10    9   10    8    7    6    5  :          inFlight=10 lastAck=0\n",
      "             0    0    0    0   10    9   10    8    7    6  :  Served  inFlight=10 lastAck=0\n",
      "             0    0    0    0   10    9   10    8    7    6  :          inFlight=10 lastAck=0\n",
      "             0    0    0    0   10    9   10    8    7    6  :          inFlight=10 lastAck=0\n",
      "             0    0    0    0   10    9   10    8    7    6  :          inFlight=10 lastAck=0\n",
      "             0    0    0    0   10    9   10    8    7    6  :          inFlight=10 lastAck=0\n",
      "             0    0    0    0   10    9   10    8    7    6  :          inFlight=10 lastAck=0\n",
      "             0    0    0    0   10    9   10    8    7    6  :          inFlight=10 lastAck=0\n",
      "             0    0    0    0    0   10    9   10    8    7  :  Served  inFlight=10 lastAck=0\n",
      "             0    0    0    0    0   10    9   10    8    7  :          inFlight=10 lastAck=0\n",
      "             0    0    0    0    0   10    9   10    8    7  :          inFlight=10 lastAck=0\n",
      "             0    0    0    0    0   10    9   10    8    7  :          inFlight=10 lastAck=0\n",
      "             0    0    0    0    0    0   10    9   10    8  :  Served  inFlight=10 lastAck=0\n",
      "             0    0    0    0    0    0   10    9   10    8  :          inFlight=10 lastAck=0\n",
      "             0    0    0    0    0    0   10    9   10    8  :          inFlight=10 lastAck=0\n",
      "             0    0    0    0    0    0    0   10    9   10  :  Served  inFlight=10 lastAck=0\n",
      "             0    0    0    0    0    0    0   10    9   10  :          inFlight=10 lastAck=0\n",
      "             0    0    0    0    0    0    0   10    9   10  :          inFlight=10 lastAck=0\n",
      "             0    0    0    0    0    0    0   10    9   10  :          inFlight=10 lastAck=0\n",
      "             0    0    0    0    0    0    0   10    9   10  :          inFlight=10 lastAck=0\n"
     ]
    }
   ],
   "source": [
    "def display(solver):\n",
    "    model = solver.model()\n",
    "    for t in range(num_T * T):\n",
    "        line = \"\"\n",
    "        line += ('    ', 'Send')[int(bool(model[send[t]]))]\n",
    "        \n",
    "        line += \" \" * 5\n",
    "        \n",
    "        for i in range(bufsize-1, -1, -1):\n",
    "            line += \"{:5}\".format(model[s[t][i]].as_long())\n",
    "            assert(not ((not bool(model[v[t][i]])) ^ model[s[t][i]].as_long() == 0))\n",
    "\n",
    "        line += \"  :  \"\n",
    "        \n",
    "        if model[serve[t]]:\n",
    "            line += \"Served\"\n",
    "        else:\n",
    "            line += \"      \"\n",
    "        \n",
    "        line += \"  inFlight=%s lastAck=%s\" % (model[inFlight[t]], model[lastAck[t]])\n",
    "        \n",
    "        print(line)\n",
    "\n",
    "display(solver)"
   ]
  },
  {
   "cell_type": "code",
   "execution_count": 41,
   "metadata": {},
   "outputs": [
    {
     "data": {
      "text/plain": [
       "(:arith-bound-propagations-cheap 2547\n",
       " :arith-bound-propagations-lp    3224\n",
       " :arith-conflicts                21\n",
       " :arith-lower                    6697\n",
       " :arith-make-feasible            2464\n",
       " :arith-max-columns              1384\n",
       " :arith-max-rows                 874\n",
       " :arith-propagations             2547\n",
       " :arith-rows                     13406\n",
       " :arith-upper                    6701\n",
       " :binary-propagations            21002\n",
       " :conflicts                      123\n",
       " :decisions                      2071\n",
       " :del-clause                     11\n",
       " :eliminated-vars                65\n",
       " :final-checks                   1\n",
       " :max-memory                     247.60\n",
       " :memory                         37.28\n",
       " :minimized-lits                 37\n",
       " :mk-bool-var                    5287\n",
       " :mk-clause                      4687\n",
       " :num-allocs                     4702390\n",
       " :num-checks                     1\n",
       " :propagations                   23880\n",
       " :restarts                       1\n",
       " :rlimit-count                   22265862)"
      ]
     },
     "execution_count": 41,
     "metadata": {},
     "output_type": "execute_result"
    }
   ],
   "source": [
    "solver.statistics()"
   ]
  },
  {
   "cell_type": "code",
   "execution_count": null,
   "metadata": {},
   "outputs": [],
   "source": []
  }
 ],
 "metadata": {
  "@webio": {
   "lastCommId": null,
   "lastKernelId": null
  },
  "kernelspec": {
   "display_name": "Python 3",
   "language": "python",
   "name": "python3"
  },
  "language_info": {
   "codemirror_mode": {
    "name": "ipython",
    "version": 3
   },
   "file_extension": ".py",
   "mimetype": "text/x-python",
   "name": "python",
   "nbconvert_exporter": "python",
   "pygments_lexer": "ipython3",
   "version": "3.7.4"
  }
 },
 "nbformat": 4,
 "nbformat_minor": 2
}
