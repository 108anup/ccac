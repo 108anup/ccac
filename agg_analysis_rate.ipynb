{
 "cells": [
  {
   "cell_type": "code",
   "execution_count": null,
   "metadata": {},
   "outputs": [],
   "source": [
    "from z3 import *\n",
    "import matplotlib.pyplot as plt\n",
    "import numpy as np"
   ]
  },
  {
   "cell_type": "markdown",
   "metadata": {},
   "source": [
    "Here we write the model at an RTT level. This method can only support calculating rates, and not calculating queuing delays. An alternate approach may allow us to calculate queuing delays (not not rates). Timesteps are in units of an RTT.\n",
    "\n",
    "## Parameters\n",
    "* $T$ - Number of RTTs to work for\n",
    "* $B$ - BDP\n",
    "* $K$ - Slack ($K = Ku - Kl, \\forall t$)\n",
    "\n",
    "**Note** This formulation only works if Only works if $K \\ge C \\cdot RTT = BDP$)\n",
    "\n",
    "## Variables\n",
    "If we wrote these variables in real time (instead of timesteps), think of them as right continuous\n",
    "* $O_t$ - number of bytes output till timestep $t$ (not including wasted opportunities)\n",
    "* $I_t$ - number of bytes input till timestep $t$\n",
    "* $Ku_t, Kl_t$ - upper and lower slack. Can change if the server decides to waste transmission opportunities\n",
    "* $w_t$ - cwnd at the beginning of timestep $t$\n",
    "* $r_t$ - rate (in pkts / RTT) at during timestep $t$ (i.e. in $[t-1, t)$)\n",
    "\n",
    "## Constraints\n",
    "* $\\min(I_{t-1}, B \\cdot t - Kl_t) \\le O_t \\le B \\cdot t + Ku_t$\n",
    "* $I_t = I_{t-1} + \\left[ O_{t-1} - O_{t-2} + w_t - w_{t-1} \\right]^+$"
   ]
  },
  {
   "cell_type": "code",
   "execution_count": null,
   "metadata": {},
   "outputs": [],
   "source": [
    "s = Solver()\n",
    "\n",
    "# Parameters of our system\n",
    "T = 10\n",
    "B = 10\n",
    "K = B\n",
    "# Otherwise our constraints are wrong\n",
    "assert(K >= B)\n",
    "\n",
    "# Create the variables\n",
    "O = [Int(\"O_%d\" % t) for t in range(T)]\n",
    "I = [Int(\"I_%d\" % t) for t in range(T)]\n",
    "Ku = [Int(\"Ku_%d\" % t) for t in range(T)]\n",
    "Kl = [Int(\"Kl_%d\" % t) for t in range(T)]\n",
    "w = [Int(\"w_%d\" % t) for t in range(T)]\n",
    "r = [Int(\"r_%d\" % t) for t in range(T)]\n",
    "\n",
    "# The constraints\n",
    "for t in range(1, T):\n",
    "    # Constrain the output\n",
    "    #lower_t = If(B * t - Kl[t] < I[t-1], B * t - Kl[t], I[t-1])\n",
    "    s.add(B * t - Kl[t] <= O[t])\n",
    "    s.add(O[t] <= B * t + Ku[t])\n",
    "    s.add(O[t-1] <= O[t])\n",
    "    \n",
    "    # Outputs, windows and rates together decide how input changes\n",
    "    if t > 1:\n",
    "        # Change due to window\n",
    "        I_w_c = O[t-1] + w[t]\n",
    "        I_w = If(I_w_c > I[t-1], I_w_c, I[t-1])\n",
    "        I_r = I[t - 1] + r[t - 1]\n",
    "        s.add(I[t] == If(I_w < I_r, I_w, I_r))\n",
    "    \n",
    "    # Determine if we can waste transmissions\n",
    "    waste_allowed = O[t] >= I[t-1]\n",
    "    s.add(Implies(waste_allowed,\n",
    "                  And(Ku[t] + B * t >= O[t],\n",
    "                      Ku[t] <= Ku[t-1])))\n",
    "    s.add(Implies(Not(waste_allowed),\n",
    "                  And(Ku[t] == Ku[t-1],\n",
    "                      Kl[t] == Kl[t-1])))\n",
    "    s.add(Ku[t] + Kl[t] == K)\n",
    "    s.add(I[t] >= O[t])\n",
    "    \n",
    "    # Constant cwnd congestion control for now\n",
    "    s.add(w[t] == w[t-1])\n",
    "    s.add(r[t] == r[t-1])\n",
    "\n",
    "# Our objective\n",
    "s.add(I[-1] < B * (T - 3))\n",
    "\n",
    "# Initial condition\n",
    "s.add(O[0] == 0); s.add(O[1] == 0)\n",
    "#s.add(I[0] == w[0]); s.add(I[1] == w[0])\n",
    "s.add(I[0] == 0); s.add(I[1] == r[0])\n",
    "s.add(Ku[0] == 0); s.add(Kl[0] == K)\n",
    "s.add(w[0] == 23)\n",
    "s.add(r[0] == 10)"
   ]
  },
  {
   "cell_type": "code",
   "execution_count": null,
   "metadata": {},
   "outputs": [],
   "source": [
    "s.check()"
   ]
  },
  {
   "cell_type": "code",
   "execution_count": null,
   "metadata": {},
   "outputs": [],
   "source": [
    "# Plot the model\n",
    "m = s.model()\n",
    "outputs = [m[o].as_long() for o in O]\n",
    "inputs = [m[i].as_long() for i in I]\n",
    "upper = [B * t + m[Ku[t]].as_long() for t in range(T)]\n",
    "lower = [B * t - m[Kl[t]].as_long() for t in range(T)]\n",
    "times = [t for t in range(T)]\n",
    "\n",
    "outputs = np.asarray(outputs)\n",
    "inputs = np.asarray(inputs)\n",
    "upper = np.asarray(upper)\n",
    "lower = np.asarray(lower)\n",
    "times = np.asarray(times)\n",
    "adj = [B * t for t in range(T)]\n",
    "\n",
    "plt.plot(times, lower - adj, color='black', marker='o')\n",
    "plt.plot(times, upper - adj, color='black', marker='o')\n",
    "plt.plot(times, outputs - adj, color='red', marker='o')\n",
    "plt.plot(times, inputs - adj, color='blue', marker='o')\n",
    "plt.grid(True)\n",
    "plt.show()"
   ]
  },
  {
   "cell_type": "code",
   "execution_count": null,
   "metadata": {},
   "outputs": [],
   "source": [
    "upper = [m[Ku[t]].as_long() for t in range(T)]\n",
    "lower = [- m[Kl[t]].as_long() for t in range(T)]\n",
    "times = [t for t in range(T)]\n",
    "plt.plot(times, upper)\n",
    "plt.plot(times, lower)"
   ]
  },
  {
   "cell_type": "code",
   "execution_count": null,
   "metadata": {},
   "outputs": [],
   "source": [
    "print([x for x in zip(outputs, inputs)])"
   ]
  },
  {
   "cell_type": "code",
   "execution_count": null,
   "metadata": {},
   "outputs": [],
   "source": []
  }
 ],
 "metadata": {
  "kernelspec": {
   "display_name": "Python 3",
   "language": "python",
   "name": "python3"
  },
  "language_info": {
   "codemirror_mode": {
    "name": "ipython",
    "version": 3
   },
   "file_extension": ".py",
   "mimetype": "text/x-python",
   "name": "python",
   "nbconvert_exporter": "python",
   "pygments_lexer": "ipython3",
   "version": "3.8.2"
  }
 },
 "nbformat": 4,
 "nbformat_minor": 4
}
