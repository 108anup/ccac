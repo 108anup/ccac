{
 "cells": [
  {
   "cell_type": "code",
   "execution_count": 1,
   "metadata": {},
   "outputs": [],
   "source": [
    "from z3 import *\n",
    "import matplotlib.pyplot as plt"
   ]
  },
  {
   "cell_type": "markdown",
   "metadata": {},
   "source": [
    "Here we write the model at an RTT level. This method can only support calculating rates, and not calculating queuing delays. An alternate approach may allow us to calculate queuing delays (not not rates). Timesteps are in units of an RTT.\n",
    "\n",
    "## Parameters\n",
    "* $T$ - Number of RTTs to work for\n",
    "* $B$ - BDP\n",
    "* $K$ - Slack ($K = Ku - Kl, \\forall t$)\n",
    "\n",
    "**Note** This formulation only works if Only works if $K \\ge C \\cdot RTT = BDP$)\n",
    "\n",
    "## Variables\n",
    "If we wrote these variables in real time (instead of timesteps), think of them as right continuous\n",
    "* $O_t$ - number of bytes output till timestep $t$ (not including wasted opportunities)\n",
    "* $I_t$ - number of bytes input till timestep $t$\n",
    "* $w_t$ - cwnd at the beginning of timestep $t$\n",
    "* $Ku_t, Kl_t$ - upper and lower slack. Can change if the server decides to waste transmission opportunities\n",
    "\n",
    "## Constraints\n",
    "* $\\min(I_{t-1}, B \\cdot t - Kl_t) \\le O_t \\le B \\cdot t + Ku_t$\n",
    "* $I_t = I_{t-1} + \\left[ O_{t-1} - O_{t-2} + w_t - w_{t-1} \\right]^+$"
   ]
  },
  {
   "cell_type": "code",
   "execution_count": 224,
   "metadata": {},
   "outputs": [],
   "source": [
    "s = Solver()\n",
    "\n",
    "# Parameters of our system\n",
    "T = 10\n",
    "B = 10\n",
    "K = B\n",
    "# Otherwise our constraints are wrong\n",
    "assert(K >= B)\n",
    "\n",
    "# Create the variables\n",
    "O = [Int(\"O_%d\" % t) for t in range(T)]\n",
    "I = [Int(\"I_%d\" % t) for t in range(T)]\n",
    "Ku = [Int(\"Ku_%d\" % t) for t in range(T)]\n",
    "Kl = [Int(\"Kl_%d\" % t) for t in range(T)]\n",
    "w = [Int(\"w_%d\" % t) for t in range(T)]\n",
    "\n",
    "# The constraints\n",
    "for t in range(1, T):\n",
    "    # Constrain the output\n",
    "    #lower_t = If(B * t - Kl[t] < I[t-1], B * t - Kl[t], I[t-1])\n",
    "    s.add(B * t - Kl[t] <= O[t])\n",
    "    s.add(O[t] <= B * t + Ku[t])\n",
    "    s.add(O[t-1] <= O[t])\n",
    "    \n",
    "    # Outputs and windows together decide how input changes\n",
    "    if t > 1:\n",
    "        I_change = O[t-1] - O[t-2] + w[t] - w[t-1]\n",
    "        s.add(I[t] == I[t - 1] + If(I_change >= 0, I_change, 0))\n",
    "    \n",
    "    # Determine if we can waste transmissions\n",
    "    waste_allowed = O[t] >= I[t-1]\n",
    "    s.add(Implies(waste_allowed,\n",
    "                  And(Ku[t] + B * t >= O[t],\n",
    "                      Ku[t] <= Ku[t-1])))\n",
    "    s.add(Implies(Not(waste_allowed),\n",
    "                  And(Ku[t] == Ku[t-1],\n",
    "                      Kl[t] == Kl[t-1])))\n",
    "    s.add(Ku[t] + Kl[t] == K)\n",
    "    s.add(I[t] >= O[t])\n",
    "    #s.add(Ku[t] > 0)\n",
    "    #s.add(Ku[t] < K)\n",
    "    \n",
    "    # Constant cwnd congestion control for now\n",
    "    s.add(w[t] == w[t-1])\n",
    "\n",
    "# Our objective\n",
    "s.add(Ku[-1] < 0)\n",
    "\n",
    "# Initial condition\n",
    "s.add(O[0] == 0); s.add(O[1] == 0)\n",
    "s.add(I[0] == w[0]); s.add(I[1] == w[0])\n",
    "s.add(Ku[0] == 0); s.add(Kl[0] == K)\n",
    "s.add(w[0] == 29)"
   ]
  },
  {
   "cell_type": "code",
   "execution_count": 225,
   "metadata": {},
   "outputs": [
    {
     "data": {
      "text/html": [
       "<b>sat</b>"
      ],
      "text/plain": [
       "sat"
      ]
     },
     "execution_count": 225,
     "metadata": {},
     "output_type": "execute_result"
    }
   ],
   "source": [
    "s.check()"
   ]
  },
  {
   "cell_type": "code",
   "execution_count": 226,
   "metadata": {},
   "outputs": [
    {
     "data": {
      "image/png": "[encoded data removed]",
      "text/plain": [
       "<Figure size 432x288 with 1 Axes>"
      ]
     },
     "metadata": {
      "needs_background": "light"
     },
     "output_type": "display_data"
    }
   ],
   "source": [
    "# Plot the model\n",
    "m = s.model()\n",
    "outputs = [m[o].as_long() for o in O]\n",
    "inputs = [m[i].as_long() for i in I]\n",
    "upper = [B * t + m[Ku[t]].as_long() for t in range(T)]\n",
    "lower = [B * t - m[Kl[t]].as_long() for t in range(T)]\n",
    "times = [t for t in range(T)]\n",
    "plt.plot(times, lower, color='black', marker='o')\n",
    "plt.plot(times, upper, color='black', marker='o')\n",
    "plt.plot(times, outputs, color='red', marker='o')\n",
    "plt.plot(times, inputs, color='blue', marker='o')\n",
    "plt.grid(True)\n",
    "#plt.yticks(range(20, 70, 5))\n",
    "#plt.xlim(3, 6)\n",
    "#plt.ylim(20, 70)\n",
    "plt.show()"
   ]
  },
  {
   "cell_type": "code",
   "execution_count": 211,
   "metadata": {},
   "outputs": [
    {
     "data": {
      "text/plain": [
       "[<matplotlib.lines.Line2D at 0x7fc4794c6910>]"
      ]
     },
     "execution_count": 211,
     "metadata": {},
     "output_type": "execute_result"
    },
    {
     "data": {
      "image/png": "[encoded data removed]",
      "text/plain": [
       "<Figure size 432x288 with 1 Axes>"
      ]
     },
     "metadata": {
      "needs_background": "light"
     },
     "output_type": "display_data"
    }
   ],
   "source": [
    "upper = [m[Ku[t]].as_long() for t in range(T)]\n",
    "lower = [- m[Kl[t]].as_long() for t in range(T)]\n",
    "times = [t for t in range(T)]\n",
    "plt.plot(times, upper)\n",
    "plt.plot(times, lower)"
   ]
  },
  {
   "cell_type": "code",
   "execution_count": 193,
   "metadata": {},
   "outputs": [
    {
     "name": "stdout",
     "output_type": "stream",
     "text": [
      "[(0, 25), (0, 25), (10, 25), (20, 35), (30, 45), (45, 55), (53, 70), (62, 78), (78, 87), (87, 103)]\n"
     ]
    }
   ],
   "source": [
    "print([x for x in zip(outputs, inputs)])"
   ]
  },
  {
   "cell_type": "code",
   "execution_count": null,
   "metadata": {},
   "outputs": [],
   "source": []
  }
 ],
 "metadata": {
  "kernelspec": {
   "display_name": "Python 3",
   "language": "python",
   "name": "python3"
  },
  "language_info": {
   "codemirror_mode": {
    "name": "ipython",
    "version": 3
   },
   "file_extension": ".py",
   "mimetype": "text/x-python",
   "name": "python",
   "nbconvert_exporter": "python",
   "pygments_lexer": "ipython3",
   "version": "3.8.2"
  }
 },
 "nbformat": 4,
 "nbformat_minor": 4
}
